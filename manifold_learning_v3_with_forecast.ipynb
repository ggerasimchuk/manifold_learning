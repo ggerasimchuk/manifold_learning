{
 "cells": [
  {
   "cell_type": "markdown",
   "metadata": {},
   "source": [
    "# Manifold Learning with Forecast"
   ]
  },
  {
   "cell_type": "code",
   "execution_count": null,
   "metadata": {},
   "outputs": [],
   "source": [
    "from data_loader import load_data\n",
    "from preprocess import PreprocConfig, preprocess_profiles\n",
    "from features_manifold import (compute_side_features, scale_features,\n",
    "                               embed_umap_euclid, embed_umap_fastdtw, ManifoldConfig)\n",
    "from clustering import (ClusterConfig, cluster_hdbscan, build_cluster_prototypes,\n",
    "                        assign_anomaly_scores, summarize_clusters)\n",
    "from visualization import (save_pbm_map, save_cluster_distribution_plot,\n",
    "                           save_cluster_prototype_plots, export_csv_summaries,\n",
    "                           build_html_report)\n",
    "from forecasting import (build_prefix_scaled_channel, make_matrices,\n",
    "                         knn_forecast, multioutput_forecast, evaluate_forecasts)\n",
    "import numpy as np\n"
   ]
  },
  {
   "cell_type": "code",
   "execution_count": null,
   "metadata": {},
   "outputs": [],
   "source": [
    "df = load_data(\"data\")"
   ]
  },
  {
   "cell_type": "code",
   "execution_count": null,
   "metadata": {},
   "outputs": [],
   "source": [
    "cfg = PreprocConfig()\n",
    "out = preprocess_profiles(df, cfg)"
   ]
  },
  {
   "cell_type": "code",
   "execution_count": null,
   "metadata": {},
   "outputs": [],
   "source": [
    "# side features and manifold embedding\n",
    "feats = compute_side_features(out[\"panel_long\"], T=cfg.T)\n",
    "feats_scaled, scaler = scale_features(feats)\n",
    "Z_dtw, sub_idx, D, info = embed_umap_fastdtw(\n",
    "    out[\"X\"], tensor_channels=out[\"tensor_channels\"],\n",
    "    channels=[\"r_oil_norm\", \"wc\"], cfg=ManifoldConfig())\n"
   ]
  },
  {
   "cell_type": "code",
   "execution_count": null,
   "metadata": {},
   "outputs": [],
   "source": [
    "# clustering on the manifold\n",
    "wells_sub = np.array(out[\"wells_used\"])[sub_idx].tolist()\n",
    "res = cluster_hdbscan(Z_dtw, wells_sub, ClusterConfig())\n",
    "protos = build_cluster_prototypes(out[\"panel_long\"], res[\"df_map\"], T=cfg.T)\n"
   ]
  },
  {
   "cell_type": "code",
   "execution_count": null,
   "metadata": {},
   "outputs": [],
   "source": [
    "# simple visual outputs\n",
    "out_dir = \"pbm_report_exports\"\n",
    "map_png = save_pbm_map(Z_dtw, res[\"df_map\"], out_dir)\n",
    "sizes_png = save_cluster_distribution_plot(res[\"df_map\"], out_dir)\n",
    "summary = summarize_clusters(res[\"df_map\"])\n",
    "proto_pngs = save_cluster_prototype_plots(out[\"panel_long\"], res[\"df_map\"], protos,\n",
    "                                         channels=(\"r_oil_s\",\"wc\",\"gor\",\"r_oil_norm\"),\n",
    "                                         T=cfg.T, out_dir=out_dir)\n",
    "export_csv_summaries(res[\"df_map\"], summary, out_dir)\n",
    "build_html_report(out_dir, map_png, sizes_png, proto_pngs, res[\"df_map\"], summary)\n"
   ]
  },
  {
   "cell_type": "code",
   "execution_count": null,
   "metadata": {},
   "outputs": [],
   "source": [
    "# forecasting example\n",
    "panel_long = build_prefix_scaled_channel(out[\"panel_long\"], out[\"wells_used\"],\n",
    "                                         T=cfg.T, T_pref=20,\n",
    "                                         rate_col=\"r_oil_s\", out_col=\"r_oil_pref_norm\")\n",
    "X_pref, Y_suffix, Y_full = make_matrices(panel_long, out[\"wells_used\"],\n",
    "                                         T=cfg.T, T_pref=20,\n",
    "                                         channel=\"r_oil_pref_norm\", target_col=\"r_oil_s\")\n",
    "Y_pred_knn, _ = knn_forecast(X_pref, Y_full, T_pref=20, K=15)\n",
    "Y_pred_lr, _ = multioutput_forecast(panel_long, out[\"wells_used\"],\n",
    "                                   T=cfg.T, T_pref=20, Y_full=Y_full)\n",
    "metrics_knn = evaluate_forecasts(Y_suffix, Y_pred_knn)\n",
    "metrics_lr = evaluate_forecasts(Y_suffix, Y_pred_lr)\n"
   ]
  }
 ],
 "metadata": {
  "language_info": {
   "name": "python",
   "pygments_lexer": "ipython3"
  }
 },
 "nbformat": 4,
 "nbformat_minor": 5
}