{
 "cells": [
  {
   "cell_type": "code",
   "id": "initial_id",
   "metadata": {
    "collapsed": true,
    "ExecuteTime": {
     "end_time": "2025-09-15T15:29:09.024405Z",
     "start_time": "2025-09-15T15:29:08.985023Z"
    }
   },
   "source": [
    "import pandas as pd\n",
    "import glob\n",
    "import numpy as np\n",
    "import os\n",
    "import warnings\n",
    "warnings.filterwarnings(\"ignore\")\n",
    "os.environ[\"SCIPY_ARRAY_API\"] = \"1\""
   ],
   "outputs": [],
   "execution_count": 29
  },
  {
   "cell_type": "code",
   "id": "9f07aae0df2425f7",
   "metadata": {
    "ExecuteTime": {
     "end_time": "2025-09-15T15:30:39.955181Z",
     "start_time": "2025-09-15T15:29:09.029676Z"
    }
   },
   "source": [
    "# путь к папке\n",
    "folder = \"data/wells\"\n",
    "\n",
    "# ищем все csv-файлы\n",
    "all_csv = glob.glob(os.path.join(folder, \"*.csv\"))\n",
    "\n",
    "# читаем и объединяем\n",
    "df_0 = pd.concat((pd.read_csv(f) for f in all_csv), ignore_index=True)\n",
    "print(f\"Считано файлов: {len(all_csv)}\")\n",
    "# переименуем для удобства\n",
    "df_0 = df_0.rename(columns={\"BBLS_OIL_COND\":\"oil\", \"MCF_GAS\": 'gas', \"BBLS_WTR\":\"water\", \"API_WellNo\":\"well_name\", \"RptDate\":\"date\", \"DAYS_PROD\":\"days_prod\"})\n",
    "# преобразуем колонку RptDate к datetime\n",
    "df_0[\"date\"] = pd.to_datetime(df_0[\"date\"])"
   ],
   "outputs": [
    {
     "name": "stdout",
     "output_type": "stream",
     "text": [
      "Считано файлов: 16492\n"
     ]
    }
   ],
   "execution_count": 30
  },
  {
   "cell_type": "code",
   "id": "1ef2cbd8b6c5e63c",
   "metadata": {
    "ExecuteTime": {
     "end_time": "2025-09-15T15:30:40.054140Z",
     "start_time": "2025-09-15T15:30:39.978936Z"
    }
   },
   "source": [
    "df = df_0.drop(columns=[\"Lease_Unit\", \"Formation\"])\n",
    "print(df.shape)"
   ],
   "outputs": [
    {
     "name": "stdout",
     "output_type": "stream",
     "text": [
      "(4679715, 6)\n"
     ]
    }
   ],
   "execution_count": 31
  },
  {
   "cell_type": "code",
   "id": "b07c87fa7e4ab996",
   "metadata": {
    "ExecuteTime": {
     "end_time": "2025-09-15T15:30:40.380123Z",
     "start_time": "2025-09-15T15:30:40.076167Z"
    }
   },
   "source": [
    "# важно, чтобы внутри каждой скважины ряды шли строго по времени\n",
    "df = df.sort_values(by=[\"well_name\", \"date\"]).reset_index(drop=True)"
   ],
   "outputs": [],
   "execution_count": 32
  },
  {
   "cell_type": "code",
   "id": "7517e584c5146a5c",
   "metadata": {
    "ExecuteTime": {
     "end_time": "2025-09-15T15:30:40.494792Z",
     "start_time": "2025-09-15T15:30:40.401085Z"
    }
   },
   "source": [
    "# Есть записи с отрицательными дебитами. Исключим их, так как работа будет вестись только с добывающими скважинами\n",
    "df = df[(df['oil'] >= 0) & (df['gas'] >= 0) & (df['water'] >= 0)]"
   ],
   "outputs": [],
   "execution_count": 33
  },
  {
   "cell_type": "code",
   "id": "87b6d575f3f6a639",
   "metadata": {
    "ExecuteTime": {
     "end_time": "2025-09-15T15:30:52.700787Z",
     "start_time": "2025-09-15T15:30:40.517175Z"
    }
   },
   "source": [
    "# -*- coding: utf-8 -*-\n",
    "\"\"\"\n",
    "Production Behavior Manifold (PBM) — Предобработка профилей (Шаг 1)\n",
    "------------------------------------------------------------------\n",
    "Этот блок определяет конфиг и функции предобработки для датафрейма df\n",
    "со столбцами:\n",
    "['well_name', 'date', 'oil', 'water', 'gas', 'days_prod']\n",
    "\n",
    "Основные шаги:\n",
    "- Приведение к среднесуточным дебитам (учёт days_prod, иначе — дни в месяце)\n",
    "- Единая месячная сетка и агрегация\n",
    "- Фильтры качества и робастная обработка выбросов\n",
    "- Сглаживание (Savitzky–Golay)\n",
    "- Производные каналы (wc, gor), нормализация по пику\n",
    "- Выравнивание времени (t=0 — старт производства)\n",
    "- Усечение/паддинг до горизонта T\n",
    "- Подготовка длинного и «tensor» представления\n",
    "\n",
    "Код написан так, чтобы безопасно выполняться даже без df в окружении.\n",
    "\"\"\"\n",
    "\n",
    "from tools.preprocessing import *\n",
    "\n",
    "if 'df' in globals():\n",
    "    print(\"Обнаружен df в окружении. Запускаю предобработку с дефолтным конфигом...\")\n",
    "    cfg = PreprocConfig()\n",
    "    out = preprocess_profiles(df.head(200000), cfg)\n",
    "    # Покажем заголовок long-таблицы как предварительный просмотр\n",
    "    head_preview = out[\"panel_long\"].head(12).copy()\n",
    "    try:\n",
    "        # Если доступна вспомогательная функция отображения таблиц — используем её\n",
    "        import caas_jupyter_tools\n",
    "        caas_jupyter_tools.display_dataframe_to_user(\"Предпросмотр panel_long\", head_preview)\n",
    "    except Exception:\n",
    "        # Иначе просто печатаем\n",
    "        print(head_preview)\n",
    "else:\n",
    "    print(\"Готово. Функции предобработки загружены. Для запуска вызовите:\")\n",
    "    print(\"cfg = PreprocConfig(T=36, min_profile_months=12)\")\n",
    "    print(\"out = preprocess_profiles(df, cfg)\")\n",
    "    print(\"panel_long, X = out['panel_long'], out['X']\")\n"
   ],
   "outputs": [
    {
     "name": "stdout",
     "output_type": "stream",
     "text": [
      "Обнаружен df в окружении. Запускаю предобработку с дефолтным конфигом...\n",
      "Preprocess complete.\n",
      "  В итог попало скважин: 67\n",
      "  Отброшено (по причинам):\n"
     ]
    },
    {
     "data": {
      "text/plain": [
       "              reason  count\n",
       "0  no_start_detected   1024"
      ],
      "text/html": [
       "<div>\n",
       "<style scoped>\n",
       "    .dataframe tbody tr th:only-of-type {\n",
       "        vertical-align: middle;\n",
       "    }\n",
       "\n",
       "    .dataframe tbody tr th {\n",
       "        vertical-align: top;\n",
       "    }\n",
       "\n",
       "    .dataframe thead th {\n",
       "        text-align: right;\n",
       "    }\n",
       "</style>\n",
       "<table border=\"1\" class=\"dataframe\">\n",
       "  <thead>\n",
       "    <tr style=\"text-align: right;\">\n",
       "      <th></th>\n",
       "      <th>reason</th>\n",
       "      <th>count</th>\n",
       "    </tr>\n",
       "  </thead>\n",
       "  <tbody>\n",
       "    <tr>\n",
       "      <th>0</th>\n",
       "      <td>no_start_detected</td>\n",
       "      <td>1024</td>\n",
       "    </tr>\n",
       "  </tbody>\n",
       "</table>\n",
       "</div>"
      ]
     },
     "metadata": {},
     "output_type": "display_data"
    },
    {
     "name": "stdout",
     "output_type": "stream",
     "text": [
      "             well_name       date  oil_sum  water_sum  gas_sum  days_sum  \\\n",
      "0   25-003-05007-00-00 1986-01-01    252.0     2552.0      0.0      31.0   \n",
      "1   25-003-05007-00-00 1986-02-01    239.0     2295.0      0.0      28.0   \n",
      "2   25-003-05007-00-00 1986-03-01    253.0     2697.0      0.0      31.0   \n",
      "3   25-003-05007-00-00 1986-04-01    249.0     1883.0      0.0      30.0   \n",
      "4   25-003-05007-00-00 1986-05-01    278.0     2631.0      0.0      31.0   \n",
      "5   25-003-05007-00-00 1986-06-01    244.0     2086.0      0.0      30.0   \n",
      "6   25-003-05007-00-00 1986-07-01    271.0     2322.0      0.0      31.0   \n",
      "7   25-003-05007-00-00 1986-09-01    195.0     1625.0      0.0       0.0   \n",
      "8   25-003-05007-00-00 1986-10-01    224.0     1867.0      0.0       0.0   \n",
      "9   25-003-05007-00-00 1986-11-01    209.0     1742.0      0.0       0.0   \n",
      "10  25-003-05007-00-00 1986-12-01    224.0     1867.0      0.0       0.0   \n",
      "11  25-003-05007-00-00 1987-01-01    221.0     2066.0      0.0       0.0   \n",
      "\n",
      "    valid_days  days_eff     r_oil    r_water  ...   r_oil_s  r_water_s  \\\n",
      "0            1      31.0  8.129032  82.322581  ...  8.278308  84.841661   \n",
      "1            1      28.0  8.535714  81.964286  ...  8.200639  80.076689   \n",
      "2            1      31.0  8.161290  87.000000  ...  8.270862  77.548308   \n",
      "3            1      30.0  8.300000  62.766667  ...  8.475464  76.428345   \n",
      "4            1      31.0  8.967742  84.870968  ...  8.541198  72.705622   \n",
      "5            1      30.0  8.133333  69.533333  ...  9.032366  80.851628   \n",
      "6            1      31.0  8.741935  74.903226  ...  7.060276  59.565484   \n",
      "7            0      60.0  3.250000  27.083333  ...  4.860092  41.055868   \n",
      "8            0      60.0  3.733333  31.116667  ...  3.052596  25.266390   \n",
      "9            0      60.0  3.483333  29.033333  ...  3.662795  30.214575   \n",
      "10           0      60.0  3.733333  31.116667  ...  3.632729  30.933327   \n",
      "11           0      61.0  3.622951  33.868852  ...  3.616024  33.661620   \n",
      "\n",
      "    r_gas_s        wc  gor  r_oil_norm  r_water_norm  r_gas_norm  dr_oil_norm  \\\n",
      "0       0.0  0.911101  0.0    0.754343      7.731016         0.0          NaN   \n",
      "1       0.0  0.907104  0.0    0.747266      7.296818         0.0    -0.007077   \n",
      "2       0.0  0.903625  0.0    0.753665      7.066424         0.0     0.006399   \n",
      "3       0.0  0.900176  0.0    0.772309      6.964370         0.0     0.018644   \n",
      "4       0.0  0.894873  0.0    0.778298      6.625145         0.0     0.005990   \n",
      "5       0.0  0.899511  0.0    0.823055      7.367432         0.0     0.044757   \n",
      "6       0.0  0.894031  0.0    0.643353      5.427778         0.0    -0.179702   \n",
      "7       0.0  0.894152  0.0    0.442866      3.741128         0.0    -0.200487   \n",
      "8       0.0  0.892207  0.0    0.278161      2.302346         0.0    -0.164704   \n",
      "9       0.0  0.891881  0.0    0.333764      2.753239         0.0     0.055603   \n",
      "10      0.0  0.894905  0.0    0.331025      2.818734         0.0    -0.002740   \n",
      "11      0.0  0.902998  0.0    0.329503      3.067343         0.0    -0.001522   \n",
      "\n",
      "     t  \n",
      "0    0  \n",
      "1    1  \n",
      "2    2  \n",
      "3    3  \n",
      "4    4  \n",
      "5    5  \n",
      "6    6  \n",
      "7    7  \n",
      "8    8  \n",
      "9    9  \n",
      "10  10  \n",
      "11  11  \n",
      "\n",
      "[12 rows x 21 columns]\n"
     ]
    }
   ],
   "execution_count": 34
  },
  {
   "cell_type": "code",
   "id": "d5b5d8c8ce36eb77",
   "metadata": {
    "ExecuteTime": {
     "end_time": "2025-09-15T15:31:13.760739Z",
     "start_time": "2025-09-15T15:30:52.723396Z"
    }
   },
   "source": [
    "# -*- coding: utf-8 -*-\n",
    "\"\"\"\n",
    "Production Behavior Manifold (PBM) — Шаг 2 (признаки) и Шаг 3 (Manifold)\n",
    "-----------------------------------------------------------------------\n",
    "Зависимости (pip): numpy, pandas, scikit-learn, umap-learn, fastdtw, tqdm (опц.)\n",
    "\n",
    "Ожидается, что из Шага 1 у вас уже есть объект `out` с ключами:\n",
    "  - out[\"panel_long\"]: long-таблица по скважинам (после предобработки)\n",
    "  - out[\"X\"]: np.ndarray формы [n_wells, T, C] по каналам cfg.tensor_channels\n",
    "  - out[\"wells_used\"]: список имён скважин в том же порядке, что и ось 0 в X\n",
    "  - out[\"tensor_channels\"]: список имён каналов в X (например: [\"r_oil_norm\",\"wc\",\"gor\",\"dr_oil_norm\"]) \n",
    "\n",
    "Этот файл добавляет:\n",
    "  1) Шаг 2: компактные дескрипторы профилей (side features)\n",
    "  2) Шаг 3: построение низкоразмерной \"карты поведения\" (UMAP) двумя способами:\n",
    "       a) быстрый базовый (евклид на выровненных рядах)\n",
    "       b) уточнённый с FastDTW, без полной O(N^2) — через доуточнение k ближайших пар\n",
    "\n",
    "Примечание: библиотеку dtaidistance *не* используем. Для DTW берём fastdtw.\n",
    "\"\"\"\n",
    "from __future__ import annotations\n",
    "from tools.manifold import *\n",
    "from tools.feature import *\n",
    "\n",
    "try:\n",
    "    from fastdtw import fastdtw\n",
    "except Exception:\n",
    "    fastdtw = None\n",
    "    warnings.warn(\"fastdtw не найден. DTW-вариант будет недоступен, останется базовый евклид.\")\n",
    "\n",
    "# tqdm (опционально)\n",
    "try:\n",
    "    from tqdm import tqdm\n",
    "    _TQDM = True\n",
    "except Exception:\n",
    "    _TQDM = False\n",
    "\n",
    "\n",
    "if 'out' in globals():\n",
    "    panel_long = out[\"panel_long\"]\n",
    "    X = out[\"X\"]\n",
    "    wells = out[\"wells_used\"]\n",
    "    tensor_channels = out[\"tensor_channels\"]\n",
    "    T = out[\"config\"][\"T\"] if \"config\" in out else X.shape[1]\n",
    "\n",
    "    # --- Шаг 2: компактные фичи\n",
    "    feats = compute_side_features(panel_long, T=T)\n",
    "    feats_scaled, scaler = scale_features(feats)\n",
    "    print(\"Side features shape:\", feats_scaled.shape)\n",
    "\n",
    "    # --- Шаг 3a: быстрый UMAP по евклиду на рядах\n",
    "    Z_euclid, umap_e = embed_umap_euclid(\n",
    "        X, tensor_channels=tensor_channels, channels=[\"r_oil_norm\", \"wc\"],\n",
    "        n_neighbors=30, min_dist=0.05, n_components=2, random_state=42\n",
    "    )\n",
    "\n",
    "    # --- Шаг 3b: UMAP с FastDTW-уточнением\n",
    "    cfg_m = ManifoldConfig(channels=(\"r_oil_norm\", \"wc\"), fastdtw_radius=6, k_refine=40,\n",
    "                           weights=(0.7, 0.3), n_neighbors=30, min_dist=0.05,\n",
    "                           n_components=2, random_state=42)\n",
    "    Z_dtw, sub_idx, D, info = embed_umap_fastdtw(\n",
    "        X, tensor_channels=tensor_channels, channels=cfg_m.channels,\n",
    "        cfg=cfg_m, sample_size=None  # можно None для полного набора\n",
    "    )\n",
    "    print(\"DTW-UMAP:\", Z_dtw.shape, \"subset size:\", len(sub_idx))\n",
    "\n",
    "    # Пример: собрать DataFrame с координатами\n",
    "    df_map = pd.DataFrame({\n",
    "        \"well_name\": np.array(wells)[sub_idx],\n",
    "        \"x\": Z_dtw[:,0],\n",
    "        \"y\": Z_dtw[:,1],\n",
    "    })\n",
    "    display(df_map.head())\n",
    "else:\n",
    "    print(\"Для примера использования требуется объект 'out' из Шага 1.\")\n"
   ],
   "outputs": [
    {
     "name": "stdout",
     "output_type": "stream",
     "text": [
      "Side features shape: (67, 16)\n"
     ]
    },
    {
     "name": "stderr",
     "output_type": "stream",
     "text": [
      "Recompute DTW for 1696 pairs (radius=6): 100%|██████████| 1696/1696 [00:20<00:00, 82.18it/s]"
     ]
    },
    {
     "name": "stdout",
     "output_type": "stream",
     "text": [
      "DTW-UMAP: (67, 2) subset size: 67\n"
     ]
    },
    {
     "name": "stderr",
     "output_type": "stream",
     "text": [
      "\n"
     ]
    },
    {
     "data": {
      "text/plain": [
       "            well_name         x         y\n",
       "0  25-003-05007-00-00  1.562496  0.713785\n",
       "1  25-003-05009-00-00  2.461500  1.356238\n",
       "2  25-003-05057-00-00  2.624318  0.795971\n",
       "3  25-003-05058-00-00  4.285417  0.593501\n",
       "4  25-003-05059-00-00  4.161982  0.746602"
      ],
      "text/html": [
       "<div>\n",
       "<style scoped>\n",
       "    .dataframe tbody tr th:only-of-type {\n",
       "        vertical-align: middle;\n",
       "    }\n",
       "\n",
       "    .dataframe tbody tr th {\n",
       "        vertical-align: top;\n",
       "    }\n",
       "\n",
       "    .dataframe thead th {\n",
       "        text-align: right;\n",
       "    }\n",
       "</style>\n",
       "<table border=\"1\" class=\"dataframe\">\n",
       "  <thead>\n",
       "    <tr style=\"text-align: right;\">\n",
       "      <th></th>\n",
       "      <th>well_name</th>\n",
       "      <th>x</th>\n",
       "      <th>y</th>\n",
       "    </tr>\n",
       "  </thead>\n",
       "  <tbody>\n",
       "    <tr>\n",
       "      <th>0</th>\n",
       "      <td>25-003-05007-00-00</td>\n",
       "      <td>1.562496</td>\n",
       "      <td>0.713785</td>\n",
       "    </tr>\n",
       "    <tr>\n",
       "      <th>1</th>\n",
       "      <td>25-003-05009-00-00</td>\n",
       "      <td>2.461500</td>\n",
       "      <td>1.356238</td>\n",
       "    </tr>\n",
       "    <tr>\n",
       "      <th>2</th>\n",
       "      <td>25-003-05057-00-00</td>\n",
       "      <td>2.624318</td>\n",
       "      <td>0.795971</td>\n",
       "    </tr>\n",
       "    <tr>\n",
       "      <th>3</th>\n",
       "      <td>25-003-05058-00-00</td>\n",
       "      <td>4.285417</td>\n",
       "      <td>0.593501</td>\n",
       "    </tr>\n",
       "    <tr>\n",
       "      <th>4</th>\n",
       "      <td>25-003-05059-00-00</td>\n",
       "      <td>4.161982</td>\n",
       "      <td>0.746602</td>\n",
       "    </tr>\n",
       "  </tbody>\n",
       "</table>\n",
       "</div>"
      ]
     },
     "metadata": {},
     "output_type": "display_data"
    }
   ],
   "execution_count": 35
  },
  {
   "cell_type": "code",
   "id": "15c5ff6b77e71a3a",
   "metadata": {
    "ExecuteTime": {
     "end_time": "2025-09-15T15:31:13.797802Z",
     "start_time": "2025-09-15T15:31:13.783066Z"
    }
   },
   "source": [
    "from tools.clustering import *\n",
    "\n",
    "if 'out' in globals() and 'Z_dtw' in globals() and 'sub_idx' in globals():\n",
    "    panel_long = out[\"panel_long\"]\n",
    "    wells_all = out[\"wells_used\"]\n",
    "    T = out[\"config\"].get(\"T\", 72)\n",
    "    wells_sub = np.array(wells_all)[sub_idx].tolist()\n",
    "\n",
    "    # 1) HDBSCAN\n",
    "    cfg = ClusterConfig(min_cluster_size=45, min_samples=12)\n",
    "    res = cluster_hdbscan(Z_dtw, wells_sub, cfg)\n",
    "    df_map = res[\"df_map\"]\n",
    "    print(\"Silhouette:\", res[\"silhouette\"], \" DBCV:\", res[\"dbcv\"])\n",
    "    print(summarize_clusters(df_map))\n",
    "\n",
    "    # 2) Аномалии\n",
    "    df_map = assign_anomaly_scores(df_map, Z_dtw, res[\"labels\"], lof_k=35)\n",
    "    # пример отбора аномалий\n",
    "    anomalies = df_map.sort_values(\"anomaly_score\", ascending=False).head(30)\n",
    "\n",
    "    # 3) Прототипы (медианные или soft-DTW / DBA при наличии tslearn)\n",
    "    protos = build_cluster_prototypes(panel_long, df_map, channels=(\"r_oil_s\",\"wc\",\"gor\",\"r_oil_norm\"), T=T, method=\"auto\")\n",
    "\n",
    "    # Теперь df_map можно соединить с геолого-технологическими признаками и строить объяснения.\n",
    "else:\n",
    "    print(\"Для примера нужен 'out' (Шаг 1) и 'Z_dtw, sub_idx' (Шаг 3).\")\n"
   ],
   "outputs": [
    {
     "name": "stdout",
     "output_type": "stream",
     "text": [
      "Silhouette: nan  DBCV: 0.0\n",
      "   cluster  size  share  prob_median\n",
      "0       -1    67    1.0          0.0\n"
     ]
    }
   ],
   "execution_count": 36
  },
  {
   "cell_type": "code",
   "id": "265920991b7a7c64",
   "metadata": {
    "ExecuteTime": {
     "end_time": "2025-09-15T15:31:13.933082Z",
     "start_time": "2025-09-15T15:31:13.845162Z"
    }
   },
   "source": [
    "%load_ext autoreload\n",
    "%autoreload 2\n",
    "\n",
    "from tools.make_reports import *\n",
    "\n",
    "# -------------------- ПРИМЕР ИСПОЛЬЗОВАНИЯ --------------------\n",
    "# (раскомментируйте и выполните после Шагов 1–4)\n",
    "#\n",
    "if 'out' in globals() and 'Z_dtw' in globals() and 'sub_idx' in globals() and 'res' in globals() and 'protos' in globals():\n",
    "    panel_long = out[\"panel_long\"]\n",
    "    T = out[\"config\"].get(\"T\", 36)\n",
    "    df_map = res[\"df_map\"]\n",
    "    out_dir = \"reports/pbm_report_exports\"  # или '/mnt/data/pbm_report_exports' в окружении чата\n",
    "\n",
    "    # 1) Основные картинки\n",
    "    map_png = save_pbm_map(Z_dtw, df_map, out_dir)\n",
    "    sizes_png = save_cluster_distribution_plot(df_map, out_dir)\n",
    "\n",
    "    # 2) Прототипы (oil_s, wc, gor, r_oil_norm)\n",
    "    channels = (\"r_oil_s\",\"wc\",\"gor\",\"r_oil_norm\")\n",
    "    proto_pngs = save_cluster_prototype_plots(panel_long, df_map, protos, channels, T, out_dir)\n",
    "\n",
    "    # 3) Таблицы CSV\n",
    "    summary = summarize_clusters(df_map)\n",
    "    csv_paths = export_csv_summaries(df_map, summary, out_dir, top_anoms=50)\n",
    "\n",
    "    # 4) HTML отчёт\n",
    "    report_path = build_html_report(out_dir, map_png, sizes_png, proto_pngs, df_map, summary, title=\"PBM Report\")\n",
    "    print(\"Готов отчёт:\", report_path)\n",
    "else:\n",
    "    print(\"Для примера нужен 'out', 'Z_dtw','sub_idx','res','protos'.\")"
   ],
   "outputs": [
    {
     "name": "stdout",
     "output_type": "stream",
     "text": [
      "The autoreload extension is already loaded. To reload it, use:\n",
      "  %reload_ext autoreload\n",
      "Готов отчёт: reports/pbm_report_exports/PBM_report.html\n"
     ]
    }
   ],
   "execution_count": 37
  },
  {
   "metadata": {
    "ExecuteTime": {
     "end_time": "2025-09-15T15:31:14.005594Z",
     "start_time": "2025-09-15T15:31:13.992583Z"
    }
   },
   "cell_type": "code",
   "source": [
    "import importlib\n",
    "import tools.make_reports  # твой .py файл без .py\n",
    "importlib.reload(tools.make_reports)"
   ],
   "id": "5fe3d2524a2bb9cf",
   "outputs": [
    {
     "data": {
      "text/plain": [
       "<module 'tools.make_reports' from '/Users/george/Documents/GitHub/manifold_learning/tools/make_reports.py'>"
      ]
     },
     "execution_count": 38,
     "metadata": {},
     "output_type": "execute_result"
    }
   ],
   "execution_count": 38
  },
  {
   "cell_type": "markdown",
   "id": "e431ca2b",
   "metadata": {},
   "source": [
    "\n",
    "# Шаг 6. Прогноз профиля по префиксу (20 → 100)\n",
    "\n",
    "**Цель:** прогнозировать месяцы 21–100 для каждой скважины, используя только первые 20 месяцев и без утечки информации.\n",
    "\n",
    "Подходы в этом шаге:\n",
    "1. **KNN-достройка по префиксу** с амплитудным выравниванием соседей (по МНК на префиксе).\n",
    "2. **Мультивыходная ElasticNet-регрессия** на компактных признаках префикса.\n",
    "\n",
    "Метрики: RMSE и sMAPE на окне 21–100.  \n",
    "Отчёты и артефакты сохраняются в `./forecast_exports`.\n"
   ]
  },
  {
   "cell_type": "code",
   "id": "5004e44c",
   "metadata": {
    "ExecuteTime": {
     "end_time": "2025-09-15T15:31:16.140735Z",
     "start_time": "2025-09-15T15:31:14.066895Z"
    }
   },
   "source": [
    "# === Шаг 6: Прогноз профиля по префиксу (20 → 100) ===\n",
    "from tools.forecast import *\n",
    "import os, numpy as np, pandas as pd, json\n",
    "from datetime import datetime\n",
    "import matplotlib.pyplot as plt\n",
    "\n",
    "assert 'out' in globals(), \"Требуется объект 'out' из Шага 1 (preprocess_profiles).\"\n",
    "panel_long = out[\"panel_long\"].copy()\n",
    "wells_used = out[\"wells_used\"]\n",
    "T = int(out[\"config\"][\"T\"])\n",
    "T_pref = 20  # можно вынести в конфиг\n",
    "\n",
    "# 6.1. Построить префикс-нормированный канал без утечки\n",
    "panel_long = build_prefix_scaled_channel(panel_long, wells_used, T=T, T_pref=T_pref,\n",
    "                                         q=0.90, rate_col=\"r_oil_s\", out_col=\"r_oil_pref_norm\")\n",
    "\n",
    "# 6.2. Матрицы X_pref, Y_suffix, Y_full\n",
    "X_pref, Y_suffix_true, Y_full = make_matrices(panel_long, wells_used, T=T, T_pref=T_pref,\n",
    "                                              channel=\"r_oil_pref_norm\", target_col=\"r_oil_s\")\n",
    "\n",
    "# 6.3. KNN-достройка\n",
    "Y_pred_knn, knn_info = knn_forecast(X_pref, Y_full, T_pref=T_pref, K=15)\n",
    "\n",
    "# 6.4. Мультивыходная регрессия\n",
    "Y_pred_lr, lr_info = multioutput_forecast(panel_long, wells_used, T=T, T_pref=T_pref, Y_full=Y_full, random_state=43)\n",
    "\n",
    "# 6.5. Оценка качества\n",
    "m_knn = evaluate_forecasts(Y_suffix_true, Y_pred_knn)\n",
    "m_lr  = evaluate_forecasts(Y_suffix_true, Y_pred_lr)\n",
    "print(\"KNN   → RMSE={rmse:.4f}, sMAPE={smape:.4f}, N={n_eval}\".format(**m_knn))\n",
    "print(\"ENet  → RMSE={rmse:.4f}, sMAPE={smape:.4f}, N={n_eval}\".format(**m_lr))\n",
    "\n",
    "# 6.6. Сохранение прогнозов и отчёта\n",
    "out_dir = \"reports/forecast_exports\"\n",
    "os.makedirs(out_dir, exist_ok=True)\n",
    "\n",
    "np.save(os.path.join(out_dir, \"Y_suffix_true.npy\"), Y_suffix_true)\n",
    "np.save(os.path.join(out_dir, \"Y_pred_knn.npy\"), Y_pred_knn)\n",
    "np.save(os.path.join(out_dir, \"Y_pred_enet.npy\"), Y_pred_lr)\n",
    "\n",
    "# Таблица метрик\n",
    "metrics_df = pd.DataFrame([\n",
    "    {\"model\": \"knn\", \"rmse\": m_knn[\"rmse\"], \"smape\": m_knn[\"smape\"], \"n_eval\": m_knn[\"n_eval\"]},\n",
    "    {\"model\": \"elasticnet\", \"rmse\": m_lr[\"rmse\"], \"smape\": m_lr[\"smape\"], \"n_eval\": m_lr[\"n_eval\"]},\n",
    "])\n",
    "metrics_csv = os.path.join(out_dir, \"metrics.csv\")\n",
    "metrics_df.to_csv(metrics_csv, index=False)\n",
    "\n",
    "# Пер-скважинные прогнозы (с именами)\n",
    "def save_predictions_csv(Y_pred: np.ndarray, wells: list, name:str):\n",
    "    cols = [f\"m{t}\" for t in range(T_pref+1, T+1)]\n",
    "    df = pd.DataFrame(Y_pred, columns=cols)\n",
    "    df.insert(0, \"well_name\", wells)\n",
    "    df.to_csv(os.path.join(out_dir, f\"pred_{name}.csv\"), index=False)\n",
    "\n",
    "save_predictions_csv(Y_pred_knn, wells_used, \"knn\")\n",
    "save_predictions_csv(Y_pred_lr,  wells_used, \"elasticnet\")\n",
    "\n",
    "# 6.7. Примеры графиков \"факт vs прогноз\"\n",
    "def plot_example(idx, title, ytrue, ypred):\n",
    "    plt.figure()\n",
    "    plt.plot(range(T_pref, T), ytrue[idx], label=\"true\")\n",
    "    plt.plot(range(T_pref, T), ypred[idx], label=\"pred\")\n",
    "    plt.title(title)\n",
    "    plt.xlabel(\"month index\")\n",
    "    plt.ylabel(\"oil rate (r_oil_s)\")\n",
    "    plt.legend()\n",
    "    fig_path = os.path.join(out_dir, f\"{title.replace(' ','_').lower()}_{idx}.png\")\n",
    "    plt.savefig(fig_path, dpi=140, bbox_inches=\"tight\")\n",
    "    plt.close()\n",
    "    return fig_path\n",
    "\n",
    "# случайные 3 примера из обучаемых скважин\n",
    "rng = np.random.default_rng(57)\n",
    "I = np.where(np.isfinite(Y_pred_knn).all(axis=1))[0]\n",
    "show = rng.choice(I, size=min(6, len(I)), replace=False) if len(I) else []\n",
    "example_imgs = []\n",
    "for i in show:\n",
    "    example_imgs.append(plot_example(i, \"knn_example\", Y_suffix_true, Y_pred_knn))\n",
    "    example_imgs.append(plot_example(i, \"enet_example\", Y_suffix_true, Y_pred_lr))\n",
    "\n",
    "# 6.8. Простой HTML отчёт\n",
    "html = f\"\"\"\n",
    "<html><head><meta charset='utf-8'><title>Forecast Report</title></head><body>\n",
    "<h2>Forecast evaluation (prefix {T_pref} → total {T})</h2>\n",
    "<p>Generated: {datetime.utcnow().isoformat()}Z</p>\n",
    "<table border='1' cellspacing='0' cellpadding='6'>\n",
    "<tr><th>Model</th><th>RMSE</th><th>sMAPE</th><th>N eval wells</th></tr>\n",
    "<tr><td>KNN</td><td>{m_knn['rmse']:.4f}</td><td>{m_knn['smape']:.4f}</td><td>{m_knn['n_eval']}</td></tr>\n",
    "<tr><td>ElasticNet</td><td>{m_lr['rmse']:.4f}</td><td>{m_lr['smape']:.4f}</td><td>{m_lr['n_eval']}</td></tr>\n",
    "</table>\n",
    "<h3>Files</h3>\n",
    "<ul>\n",
    "  <li>metrics.csv</li>\n",
    "  <li>pred_knn.csv</li>\n",
    "  <li>pred_elasticnet.csv</li>\n",
    "</ul>\n",
    "<h3>Examples</h3>\n",
    "{''.join(f\"<img src='{os.path.basename(p)}' style='max-width:640px;display:block;margin-bottom:10px;'/>\" for p in example_imgs)}\n",
    "</body></html>\n",
    "\"\"\"\n",
    "report_path = os.path.join(out_dir, \"forecast_report.html\")\n",
    "with open(report_path, \"w\", encoding=\"utf-8\") as f:\n",
    "    f.write(html)\n",
    "\n",
    "print(\"Saved:\", metrics_csv, \"and\", report_path)\n"
   ],
   "outputs": [
    {
     "name": "stdout",
     "output_type": "stream",
     "text": [
      "KNN   → RMSE=7.2291, sMAPE=0.4508, N=65\n",
      "ENet  → RMSE=10.7022, sMAPE=0.7326, N=65\n",
      "Saved: reports/forecast_exports/metrics.csv and reports/forecast_exports/forecast_report.html\n"
     ]
    }
   ],
   "execution_count": 39
  },
  {
   "metadata": {},
   "cell_type": "markdown",
   "source": [
    "Выборка размера 2000:\n",
    "\n",
    "KNN   → RMSE=20.3636, sMAPE=0.4884, N=1964\n",
    "ENet  → RMSE=36.7395, sMAPE=1.1923, N=1964\n",
    "Saved: reports/forecast_exports/metrics.csv and reports/forecast_exports/forecast_report.html"
   ],
   "id": "2fb1bdb92a9b85b9"
  },
  {
   "metadata": {
    "ExecuteTime": {
     "end_time": "2025-09-15T15:31:18.182884Z",
     "start_time": "2025-09-15T15:31:16.183593Z"
    }
   },
   "cell_type": "code",
   "source": [
    "# === Шаг 6: Прогноз профиля по префиксу (20 → 100) ===\n",
    "from tools.forecast import *\n",
    "import os, numpy as np, pandas as pd, json\n",
    "from datetime import datetime\n",
    "import matplotlib.pyplot as plt\n",
    "\n",
    "assert 'out' in globals(), \"Требуется объект 'out' из Шага 1 (preprocess_profiles).\"\n",
    "panel_long = out[\"panel_long\"].copy()\n",
    "wells_used = out[\"wells_used\"]\n",
    "T = int(out[\"config\"][\"T\"])\n",
    "T_pref = 20  # можно вынести в конфиг\n",
    "\n",
    "# 6.1. Построить префикс-нормированный канал без утечки\n",
    "panel_long = build_prefix_scaled_channel(panel_long, wells_used, T=T, T_pref=T_pref,\n",
    "                                         q=0.90, rate_col=\"r_oil_s\", out_col=\"r_oil_pref_norm\")\n",
    "\n",
    "# 6.2. Матрицы X_pref, Y_suffix, Y_full\n",
    "X_pref, Y_suffix_true, Y_full = make_matrices(panel_long, wells_used, T=T, T_pref=T_pref,\n",
    "                                              channel=\"r_oil_pref_norm\", target_col=\"r_oil_s\")\n",
    "\n",
    "# 6.3. KNN-достройка\n",
    "Y_pred_knn, knn_info = knn_forecast(X_pref, Y_full, T_pref=T_pref, K=15)\n",
    "\n",
    "# 6.4. Мультивыходная регрессия\n",
    "Y_pred_lr, lr_info = multioutput_forecast(panel_long, wells_used, T=T, T_pref=T_pref,\n",
    "                                          Y_full=Y_full, random_state=43)\n",
    "\n",
    "# 6.5. Оценка качества (без зависимости от версии sklearn)\n",
    "def _eval_rmse_smape(Y_true, Y_pred):\n",
    "    mask = np.isfinite(Y_pred).all(axis=1) & np.isfinite(Y_true).all(axis=1)\n",
    "    if not np.any(mask):\n",
    "        return {\"rmse\": float(\"nan\"), \"smape\": float(\"nan\"), \"n_eval\": 0}\n",
    "    diff = Y_pred[mask] - Y_true[mask]\n",
    "    rmse = float(np.sqrt(np.mean(diff**2)))\n",
    "    smape = float(np.nanmean(2*np.abs(Y_pred[mask]-Y_true[mask])/(np.abs(Y_pred[mask])+np.abs(Y_true[mask])+1e-9)))\n",
    "    return {\"rmse\": rmse, \"smape\": smape, \"n_eval\": int(mask.sum())}\n",
    "\n",
    "try:\n",
    "    m_knn = evaluate_forecasts(Y_suffix_true, Y_pred_knn)  # из tools.forecast, если есть\n",
    "    m_lr  = evaluate_forecasts(Y_suffix_true, Y_pred_lr)\n",
    "except Exception:\n",
    "    m_knn = _eval_rmse_smape(Y_suffix_true, Y_pred_knn)\n",
    "    m_lr  = _eval_rmse_smape(Y_suffix_true, Y_pred_lr)\n",
    "\n",
    "print(\"KNN   → RMSE={rmse:.4f}, sMAPE={smape:.4f}, N={n_eval}\".format(**m_knn))\n",
    "print(\"ENet  → RMSE={rmse:.4f}, sMAPE={smape:.4f}, N={n_eval}\".format(**m_lr))\n",
    "\n",
    "# 6.6. Сохранение прогнозов и отчёта\n",
    "out_dir = \"reports/forecast_exports\"\n",
    "os.makedirs(out_dir, exist_ok=True)\n",
    "\n",
    "np.save(os.path.join(out_dir, \"Y_suffix_true.npy\"), Y_suffix_true)\n",
    "np.save(os.path.join(out_dir, \"Y_pred_knn.npy\"), Y_pred_knn)\n",
    "np.save(os.path.join(out_dir, \"Y_pred_enet.npy\"), Y_pred_lr)\n",
    "\n",
    "# Таблица метрик\n",
    "metrics_df = pd.DataFrame([\n",
    "    {\"model\": \"knn\", \"rmse\": m_knn[\"rmse\"], \"smape\": m_knn[\"smape\"], \"n_eval\": m_knn[\"n_eval\"]},\n",
    "    {\"model\": \"elasticnet\", \"rmse\": m_lr[\"rmse\"], \"smape\": m_lr[\"smape\"], \"n_eval\": m_lr[\"n_eval\"]},\n",
    "])\n",
    "metrics_csv = os.path.join(out_dir, \"metrics.csv\")\n",
    "metrics_df.to_csv(metrics_csv, index=False)\n",
    "\n",
    "# Пер-скважинные прогнозы (суффикс: месяцы T_pref+1..T)\n",
    "def save_suffix_predictions_csv(Y_pred: np.ndarray, wells: list, name:str):\n",
    "    cols = [f\"m{t}\" for t in range(T_pref+1, T+1)]\n",
    "    df = pd.DataFrame(Y_pred, columns=cols)\n",
    "    df.insert(0, \"well_name\", wells)\n",
    "    df.to_csv(os.path.join(out_dir, f\"pred_{name}.csv\"), index=False)\n",
    "\n",
    "save_suffix_predictions_csv(Y_pred_knn, wells_used, \"knn\")\n",
    "save_suffix_predictions_csv(Y_pred_lr,  wells_used, \"elasticnet\")\n",
    "\n",
    "# === НОВОЕ: Полные ряды 0..99 (0..19 — наблюдения, 20..99 — прогноз) ===\n",
    "# Сборка full-предсказаний\n",
    "Y_hat_knn_full = Y_full.copy()\n",
    "Y_hat_enet_full = Y_full.copy()\n",
    "Y_hat_knn_full[:, T_pref:T] = Y_pred_knn\n",
    "Y_hat_enet_full[:, T_pref:T] = Y_pred_lr\n",
    "\n",
    "# Wide CSV: m1..m100 (полный горизонт)\n",
    "cols_full = [f\"m{t+1}\" for t in range(T)]\n",
    "def save_full(name, Y_hat):\n",
    "    df = pd.DataFrame(Y_hat, columns=cols_full)\n",
    "    df.insert(0, \"well_name\", wells_used)\n",
    "    df.to_csv(os.path.join(out_dir, f\"pred_full_{name}.csv\"), index=False)\n",
    "\n",
    "save_full(\"knn\", Y_hat_knn_full)\n",
    "save_full(\"elasticnet\", Y_hat_enet_full)\n",
    "\n",
    "# Long CSV с пометкой сегмента observed/forecast\n",
    "rows = []\n",
    "for i, w in enumerate(wells_used):\n",
    "    for t in range(T):\n",
    "        seg = \"observed\" if t < T_pref else \"forecast\"\n",
    "        rows.append({\n",
    "            \"well_name\": w,\n",
    "            \"t\": t,\n",
    "            \"y_true\": float(Y_full[i, t]) if np.isfinite(Y_full[i, t]) else np.nan,\n",
    "            \"y_pred_knn\": float(Y_hat_knn_full[i, t]) if np.isfinite(Y_hat_knn_full[i, t]) else np.nan,\n",
    "            \"y_pred_elasticnet\": float(Y_hat_enet_full[i, t]) if np.isfinite(Y_hat_enet_full[i, t]) else np.nan,\n",
    "            \"segment\": seg\n",
    "        })\n",
    "pred_long = pd.DataFrame(rows)\n",
    "pred_long.to_csv(os.path.join(out_dir, \"pred_long.csv\"), index=False)\n",
    "\n",
    "# 6.7. Примеры графиков \"полный ряд: факт vs прогноз\"\n",
    "def plot_full_example(idx, title_prefix, Y_hat_full):\n",
    "    plt.figure()\n",
    "    plt.plot(range(T), Y_full[idx], label=\"true\")\n",
    "    plt.plot(range(T), Y_hat_full[idx], label=\"pred\")\n",
    "    plt.axvline(T_pref-1, linestyle=\"--\")\n",
    "    plt.title(f\"{title_prefix} well={wells_used[idx]}\")\n",
    "    plt.xlabel(\"month index (0..{})\".format(T-1))\n",
    "    plt.ylabel(\"oil rate (r_oil_s)\")\n",
    "    plt.legend()\n",
    "    fig_path = os.path.join(out_dir, f\"{title_prefix.replace(' ','_').lower()}_{idx}_full.png\")\n",
    "    plt.savefig(fig_path, dpi=140, bbox_inches=\"tight\")\n",
    "    plt.close()\n",
    "    return fig_path\n",
    "\n",
    "# случайные 3 скважины (если есть)\n",
    "rng = np.random.default_rng(59)\n",
    "I = np.where(np.isfinite(Y_pred_knn).all(axis=1))[0]\n",
    "show = rng.choice(I, size=min(6, len(I)), replace=False) if len(I) else []\n",
    "example_imgs = []\n",
    "for i in show:\n",
    "    example_imgs.append(plot_full_example(i, \"knn_example\", Y_hat_knn_full))\n",
    "    example_imgs.append(plot_full_example(i, \"enet_example\", Y_hat_enet_full))\n",
    "\n",
    "# 6.8. Простой HTML-отчёт\n",
    "html = f\"\"\"\n",
    "<html><head><meta charset='utf-8'><title>Forecast Report</title></head><body>\n",
    "<h2>Forecast evaluation (prefix {T_pref} → total {T})</h2>\n",
    "<p>Generated: {datetime.utcnow().isoformat()}Z</p>\n",
    "<table border='1' cellspacing='0' cellpadding='6'>\n",
    "<tr><th>Model</th><th>RMSE</th><th>sMAPE</th><th>N eval wells</th></tr>\n",
    "<tr><td>KNN</td><td>{m_knn['rmse']:.4f}</td><td>{m_knn['smape']:.4f}</td><td>{m_knn['n_eval']}</td></tr>\n",
    "<tr><td>ElasticNet</td><td>{m_lr['rmse']:.4f}</td><td>{m_lr['smape']:.4f}</td><td>{m_lr['n_eval']}</td></tr>\n",
    "</table>\n",
    "<h3>Files</h3>\n",
    "<ul>\n",
    "  <li>metrics.csv</li>\n",
    "  <li>pred_knn.csv (suffix-only)</li>\n",
    "  <li>pred_elasticnet.csv (suffix-only)</li>\n",
    "  <li>pred_full_knn.csv (full 0..{T-1})</li>\n",
    "  <li>pred_full_elasticnet.csv (full 0..{T-1})</li>\n",
    "  <li>pred_long.csv (long + segment flag)</li>\n",
    "</ul>\n",
    "<h3>Full-series examples</h3>\n",
    "{''.join(f\"<img src='{os.path.basename(p)}' style='max-width:640px;display:block;margin-bottom:10px;'/>\" for p in example_imgs)}\n",
    "</body></html>\n",
    "\"\"\"\n",
    "report_path = os.path.join(out_dir, \"forecast_report.html\")\n",
    "with open(report_path, \"w\", encoding=\"utf-8\") as f:\n",
    "    f.write(html)\n",
    "\n",
    "print(\"Saved:\", metrics_csv, \"and\", report_path)\n"
   ],
   "id": "8e3b790eee64879f",
   "outputs": [
    {
     "name": "stdout",
     "output_type": "stream",
     "text": [
      "KNN   → RMSE=7.2291, sMAPE=0.4508, N=65\n",
      "ENet  → RMSE=10.7022, sMAPE=0.7326, N=65\n",
      "Saved: reports/forecast_exports/metrics.csv and reports/forecast_exports/forecast_report.html\n"
     ]
    }
   ],
   "execution_count": 40
  },
  {
   "metadata": {
    "ExecuteTime": {
     "end_time": "2025-09-15T15:31:18.186457Z",
     "start_time": "2025-09-15T15:31:18.185194Z"
    }
   },
   "cell_type": "code",
   "source": "",
   "id": "aa188ab70f40cc1c",
   "outputs": [],
   "execution_count": null
  }
 ],
 "metadata": {
  "kernelspec": {
   "display_name": "Python 3",
   "language": "python",
   "name": "python3"
  },
  "language_info": {
   "codemirror_mode": {
    "name": "ipython",
    "version": 2
   },
   "file_extension": ".py",
   "mimetype": "text/x-python",
   "name": "python",
   "nbconvert_exporter": "python",
   "pygments_lexer": "ipython2",
   "version": "2.7.6"
  }
 },
 "nbformat": 4,
 "nbformat_minor": 5
}
